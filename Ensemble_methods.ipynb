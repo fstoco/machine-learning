{
  "nbformat": 4,
  "nbformat_minor": 0,
  "metadata": {
    "colab": {
      "name": "Ensemble methods.ipynb",
      "provenance": [],
      "collapsed_sections": [],
      "include_colab_link": true
    },
    "kernelspec": {
      "name": "python3",
      "display_name": "Python 3"
    },
    "language_info": {
      "name": "python"
    }
  },
  "cells": [
    {
      "cell_type": "markdown",
      "metadata": {
        "id": "view-in-github",
        "colab_type": "text"
      },
      "source": [
        "<a href=\"https://colab.research.google.com/github/fstoco/machine-learning/blob/main/Ensemble_methods.ipynb\" target=\"_parent\"><img src=\"https://colab.research.google.com/assets/colab-badge.svg\" alt=\"Open In Colab\"/></a>"
      ]
    },
    {
      "cell_type": "code",
      "metadata": {
        "id": "-2tBzV7e0Erh"
      },
      "source": [
        "%matplotlib inline\n",
        "\n",
        "import itertools\n",
        "import numpy as np\n",
        "\n",
        "import seaborn as sns\n",
        "import matplotlib.pyplot as plt\n",
        "import matplotlib.gridspec as gridspec\n",
        "\n",
        "from sklearn import datasets\n",
        "\n",
        "from sklearn.tree import DecisionTreeClassifier\n",
        " \n",
        "from sklearn.linear_model import LogisticRegression\n",
        "from sklearn.ensemble import RandomForestClassifier\n",
        "\n",
        "from sklearn.ensemble import BaggingClassifier\n",
        "from sklearn.model_selection import cross_val_score, train_test_split\n",
        "\n",
        "from mlxtend.plotting import plot_learning_curves\n",
        "from mlxtend.plotting import plot_decision_regions\n",
        "\n",
        "np.random.seed(0)"
      ],
      "execution_count": null,
      "outputs": []
    },
    {
      "cell_type": "code",
      "metadata": {
        "colab": {
          "base_uri": "https://localhost:8080/",
          "height": 110
        },
        "id": "ljHKFxAS0PS4",
        "outputId": "96a6f0b5-9b94-4f61-e341-a4e53a41a094"
      },
      "source": [
        "from pandas import read_csv\n",
        "data= read_csv('Iris.csv')\n",
        "X= data.drop(['Id','Species'], axis=1)\n",
        "y=data['Species']\n",
        "X.head(2)"
      ],
      "execution_count": null,
      "outputs": [
        {
          "output_type": "execute_result",
          "data": {
            "text/html": [
              "<div>\n",
              "<style scoped>\n",
              "    .dataframe tbody tr th:only-of-type {\n",
              "        vertical-align: middle;\n",
              "    }\n",
              "\n",
              "    .dataframe tbody tr th {\n",
              "        vertical-align: top;\n",
              "    }\n",
              "\n",
              "    .dataframe thead th {\n",
              "        text-align: right;\n",
              "    }\n",
              "</style>\n",
              "<table border=\"1\" class=\"dataframe\">\n",
              "  <thead>\n",
              "    <tr style=\"text-align: right;\">\n",
              "      <th></th>\n",
              "      <th>SepalLengthCm</th>\n",
              "      <th>SepalWidthCm</th>\n",
              "      <th>PetalLengthCm</th>\n",
              "      <th>PetalWidthCm</th>\n",
              "    </tr>\n",
              "  </thead>\n",
              "  <tbody>\n",
              "    <tr>\n",
              "      <th>0</th>\n",
              "      <td>5.1</td>\n",
              "      <td>3.5</td>\n",
              "      <td>1.4</td>\n",
              "      <td>0.2</td>\n",
              "    </tr>\n",
              "    <tr>\n",
              "      <th>1</th>\n",
              "      <td>4.9</td>\n",
              "      <td>3.0</td>\n",
              "      <td>1.4</td>\n",
              "      <td>0.2</td>\n",
              "    </tr>\n",
              "  </tbody>\n",
              "</table>\n",
              "</div>"
            ],
            "text/plain": [
              "   SepalLengthCm  SepalWidthCm  PetalLengthCm  PetalWidthCm\n",
              "0            5.1           3.5            1.4           0.2\n",
              "1            4.9           3.0            1.4           0.2"
            ]
          },
          "metadata": {
            "tags": []
          },
          "execution_count": 2
        }
      ]
    },
    {
      "cell_type": "code",
      "metadata": {
        "id": "wOdDCESi4Tl5"
      },
      "source": [
        "X.head(2)    \n",
        "clf1 = DecisionTreeClassifier(criterion='entropy', max_depth=1)\n",
        "clf2 = LogisticRegression( )    \n",
        "\n",
        "bagging1 = BaggingClassifier(base_estimator=clf1, n_estimators=10, max_samples=0.8, max_features=0.8)\n",
        "bagging2 = BaggingClassifier(base_estimator=clf2, n_estimators=10, max_samples=0.8, max_features=0.8)"
      ],
      "execution_count": null,
      "outputs": []
    },
    {
      "cell_type": "markdown",
      "metadata": {
        "id": "Evfjg3jGzrVd"
      },
      "source": [
        ""
      ]
    },
    {
      "cell_type": "code",
      "metadata": {
        "colab": {
          "base_uri": "https://localhost:8080/"
        },
        "id": "qwGK1D8x5Hmg",
        "outputId": "e499b6e9-7419-4082-b599-8f4bb1a5a665"
      },
      "source": [
        "import warnings\n",
        "warnings.filterwarnings(\"ignore\")\n",
        "\n",
        "label = ['Decision Tree', 'LR', 'Bagging Tree', 'Bagging LR']\n",
        "clf_list = [clf1, clf2, bagging1, bagging2]\n",
        " \n",
        "\n",
        "for clf, label  in zip(clf_list, label ):        \n",
        "    scores = cross_val_score(clf, X, y, cv=3, scoring='accuracy')\n",
        "    print (\"Accuracy:  \",(scores.mean(), scores.std(), label))"
      ],
      "execution_count": null,
      "outputs": [
        {
          "output_type": "stream",
          "text": [
            "Accuracy:   (0.66, 0.0, 'Decision Tree')\n",
            "Accuracy:   (0.9733333333333333, 0.009428090415820642, 'LR')\n",
            "Accuracy:   (0.9533333333333333, 0.024944382578492918, 'Bagging Tree')\n",
            "Accuracy:   (0.9666666666666667, 0.018856180831641284, 'Bagging LR')\n"
          ],
          "name": "stdout"
        }
      ]
    },
    {
      "cell_type": "code",
      "metadata": {
        "colab": {
          "base_uri": "https://localhost:8080/"
        },
        "id": "di7j5cpEOQAz",
        "outputId": "6d97336c-f39e-4221-fecc-3098533ec977"
      },
      "source": [
        "num_est = np.arange(10,100,10)\n",
        "num_est"
      ],
      "execution_count": null,
      "outputs": [
        {
          "output_type": "execute_result",
          "data": {
            "text/plain": [
              "array([10, 20, 30, 40, 50, 60, 70, 80, 90])"
            ]
          },
          "metadata": {
            "tags": []
          },
          "execution_count": 5
        }
      ]
    },
    {
      "cell_type": "code",
      "metadata": {
        "colab": {
          "base_uri": "https://localhost:8080/"
        },
        "id": "t767E3UY8kz1",
        "outputId": "962e46c9-d452-4e31-f6b3-2ae822edd2d2"
      },
      "source": [
        "\n",
        "#Ensemble Size\n",
        " \n",
        "num_est = np.arange(10,100,10)\n",
        "bg_clf_cv_mean = []\n",
        "bg_clf_cv_std = []\n",
        "for i in num_est:    \n",
        "    bg_clf = BaggingClassifier(base_estimator=clf1, n_estimators=i, max_samples=0.8, max_features=0.8)\n",
        "    scores = cross_val_score(bg_clf, X, y, cv=3, scoring='accuracy')\n",
        "    bg_clf_cv_mean.append(scores.mean())\n",
        "    bg_clf_cv_std.append(scores.std())\n",
        "bg_clf_cv_mean"
      ],
      "execution_count": null,
      "outputs": [
        {
          "output_type": "execute_result",
          "data": {
            "text/plain": [
              "[0.8466666666666667,\n",
              " 0.94,\n",
              " 0.9533333333333333,\n",
              " 0.9466666666666667,\n",
              " 0.9466666666666667,\n",
              " 0.94,\n",
              " 0.96,\n",
              " 0.96,\n",
              " 0.86]"
            ]
          },
          "metadata": {
            "tags": []
          },
          "execution_count": 7
        }
      ]
    },
    {
      "cell_type": "code",
      "metadata": {
        "colab": {
          "base_uri": "https://localhost:8080/",
          "height": 295
        },
        "id": "m8NpOxGa8zTv",
        "outputId": "c2aa4ec6-5fd1-4b86-8eac-473d1d88a91b"
      },
      "source": [
        "plt.figure()\n",
        "plt.errorbar(num_est, bg_clf_cv_mean, yerr=bg_clf_cv_std,c='blue', fmt='-o', capsize=5)\n",
        "plt.ylabel('Accuracy'); plt.xlabel('Ensemble Size'); plt.title('Bagging Tree Ensemble');\n",
        "plt.show()"
      ],
      "execution_count": null,
      "outputs": [
        {
          "output_type": "display_data",
          "data": {
            "image/png": "[encoded data removed]",
            "text/plain": [
              "<Figure size 432x288 with 1 Axes>"
            ]
          },
          "metadata": {
            "tags": [],
            "needs_background": "light"
          }
        }
      ]
    },
    {
      "cell_type": "markdown",
      "metadata": {
        "id": "MVLoJ4hg1XMv"
      },
      "source": [
        "# use svc and Naive Bayes classifiers as the base model, apply bagging approach for both base classifer, specify the best bagging approach via evaluating accuracy in 100 mc runs. \n"
      ]
    },
    {
      "cell_type": "markdown",
      "metadata": {
        "id": "APR7b6Ql4QO_"
      },
      "source": [
        "# step 1---function: create the models\n",
        "#step 2---function : evaluate the models in 100 mc runs\n",
        "#step 3: use functions 1 and 2 on the dataset"
      ]
    },
    {
      "cell_type": "code",
      "metadata": {
        "id": "T6eNOwHr6Lrm"
      },
      "source": [
        "from sklearn.svm import SVC\n",
        "from sklearn.naive_bayes import GaussianNB\n",
        "from sklearn.ensemble import BaggingClassifier\n",
        "\n"
      ],
      "execution_count": null,
      "outputs": []
    },
    {
      "cell_type": "code",
      "metadata": {
        "id": "nRoFVWV86XP6"
      },
      "source": [
        "# get a list of models to evaluate\n",
        "def get_models():\n",
        "  models = dict() \n",
        "  models['svm'] = SVC()\n",
        "  models['bayes'] = GaussianNB()\n",
        "  models['bagg_svc'] = BaggingClassifier(base_estimator=SVC(), n_estimators=10) # 10 bags\n",
        "  models['bagg_nb'] = BaggingClassifier(base_estimator=GaussianNB(), n_estimators=10) # 10 bags\n",
        "  return models"
      ],
      "execution_count": null,
      "outputs": []
    },
    {
      "cell_type": "code",
      "metadata": {
        "id": "3wLss7Tz81j4"
      },
      "source": [
        "models=get_models()\n",
        "models.items()"
      ],
      "execution_count": null,
      "outputs": []
    },
    {
      "cell_type": "code",
      "metadata": {
        "id": "t80XuSMM7Y3o"
      },
      "source": [
        "# create the function to evaluate the models\n",
        "import numpy as np\n",
        "from sklearn.metrics import accuracy_score\n",
        "def evaluate_model(model, X, y):\n",
        "  acc = []\n",
        "  for j in range(1000):\n",
        "    X_train,X_test,y_train,y_test = train_test_split(X,y,test_size=0.3, random_state = j)\n",
        "    model.fit(X_train, y_train)\n",
        "    y_pred = model.predict(X_test)\n",
        "    accuracy = accuracy_score(y_test,y_pred)\n",
        "    acc.append(accuracy)\n",
        "    scores=np.mean(acc) \n",
        "    return scores"
      ],
      "execution_count": null,
      "outputs": []
    },
    {
      "cell_type": "code",
      "metadata": {
        "id": "66nyQjyq8VSO"
      },
      "source": [
        "# specify the input and output variables\n",
        "\n",
        "from pandas import read_csv\n",
        "data= read_csv('Iris.csv')\n",
        "\n",
        "X= data.drop(['Id','Species'], axis=1)\n",
        "y=data['Species']"
      ],
      "execution_count": null,
      "outputs": []
    },
    {
      "cell_type": "code",
      "metadata": {
        "colab": {
          "base_uri": "https://localhost:8080/"
        },
        "id": "gGN87TzR8oRX",
        "outputId": "6e6ddac1-402b-493d-c821-4e069f64a9a9"
      },
      "source": [
        "#run the models on the dataset\n",
        "from sklearn.model_selection import train_test_split\n",
        " \n",
        "from numpy import mean, std\n",
        "results, names = list(), list()\n",
        "for name, model in models.items():\n",
        "\tscores = evaluate_model(model, X, y)\n",
        "\tresults.append(scores)\n",
        "\tnames.append(name)\n",
        "\tprint('>%s %.3f (%.3f)' % (name, mean(scores), std(scores)))\n",
        " \n"
      ],
      "execution_count": null,
      "outputs": [
        {
          "output_type": "stream",
          "text": [
            ">svm 0.978 (0.000)\n",
            ">bayes 1.000 (0.000)\n",
            ">bagg_svc 0.978 (0.000)\n",
            ">bagg_nb 0.978 (0.000)\n"
          ],
          "name": "stdout"
        }
      ]
    },
    {
      "cell_type": "markdown",
      "metadata": {
        "id": "3dllncG9_P6s"
      },
      "source": [
        "# Example: use mtcars dataset, consider cyl as the output variable and the remaining features are input variables. Train 4 bagging classifiers using this dataset in 100 mc runs and print out the mean and standard deviation of accuracy."
      ]
    },
    {
      "cell_type": "markdown",
      "metadata": {
        "id": "qbXLYIy2EmWs"
      },
      "source": [
        "\n",
        "Boosting"
      ]
    },
    {
      "cell_type": "code",
      "metadata": {
        "id": "IFV5y-eUEngI"
      },
      "source": [
        "from sklearn.ensemble import AdaBoostClassifier\n",
        "\n",
        "clf = DecisionTreeClassifier(criterion='entropy', max_depth=1)\n",
        "\n",
        "num_est = [1, 2, 3, 10]\n",
        "label = ['AdaBoost (n_est=1)', 'AdaBoost (n_est=2)', 'AdaBoost (n_est=3)', 'AdaBoost (n_est=10)']"
      ],
      "execution_count": null,
      "outputs": []
    },
    {
      "cell_type": "code",
      "metadata": {
        "id": "xl1P33iaE-Dq"
      },
      "source": [
        "#Ensemble Size\n",
        "num_est = np.arange(10,100,10)\n",
        "bg_clf_cv_mean = []\n",
        "bg_clf_cv_std = []\n",
        "for n_est in num_est:\n",
        "    ada_clf = AdaBoostClassifier(base_estimator=clf, n_estimators=n_est)\n",
        "    scores = cross_val_score(ada_clf, X, y, cv=3, scoring='accuracy')\n",
        "    bg_clf_cv_mean.append(scores.mean())\n",
        "    bg_clf_cv_std.append(scores.std())"
      ],
      "execution_count": null,
      "outputs": []
    },
    {
      "cell_type": "code",
      "metadata": {
        "colab": {
          "base_uri": "https://localhost:8080/",
          "height": 295
        },
        "id": "c99UzGoKFPUq",
        "outputId": "bd16908d-3a25-4963-df2b-795e68671bbe"
      },
      "source": [
        "plt.figure()\n",
        "plt.errorbar(num_est, bg_clf_cv_mean, yerr=bg_clf_cv_std,c='blue', fmt='-o', capsize=5)\n",
        "plt.ylabel('Accuracy'); plt.xlabel('Ensemble Size'); plt.title('AdaBoost Ensemble');\n",
        "plt.show()"
      ],
      "execution_count": null,
      "outputs": [
        {
          "output_type": "display_data",
          "data": {
            "image/png": "[encoded data removed]",
            "text/plain": [
              "<Figure size 432x288 with 1 Axes>"
            ]
          },
          "metadata": {
            "tags": [],
            "needs_background": "light"
          }
        }
      ]
    },
    {
      "cell_type": "markdown",
      "metadata": {
        "id": "plJD7aKkUBBD"
      },
      "source": [
        "#Use mtcars dataset, consider cyl as the output varible. Apply decision tree classifier to model 70% of the dataset and evaluate its accuracy. \n",
        "#run the model based on Adaboost and print out accuracy, which model has the higher accuracy?"
      ]
    },
    {
      "cell_type": "code",
      "metadata": {
        "colab": {
          "base_uri": "https://localhost:8080/",
          "height": 110
        },
        "id": "-ov5M2nUV9nS",
        "outputId": "70a766ac-64dd-451d-8882-cac57b12ef19"
      },
      "source": [
        "from pandas import read_csv\n",
        "data= read_csv('mtcars.csv')\n",
        "X= data.drop(['cyl'], axis=1)\n",
        "y=data['cyl']\n",
        "X.head(2)\n"
      ],
      "execution_count": null,
      "outputs": [
        {
          "output_type": "execute_result",
          "data": {
            "text/html": [
              "<div>\n",
              "<style scoped>\n",
              "    .dataframe tbody tr th:only-of-type {\n",
              "        vertical-align: middle;\n",
              "    }\n",
              "\n",
              "    .dataframe tbody tr th {\n",
              "        vertical-align: top;\n",
              "    }\n",
              "\n",
              "    .dataframe thead th {\n",
              "        text-align: right;\n",
              "    }\n",
              "</style>\n",
              "<table border=\"1\" class=\"dataframe\">\n",
              "  <thead>\n",
              "    <tr style=\"text-align: right;\">\n",
              "      <th></th>\n",
              "      <th>mpg</th>\n",
              "      <th>disp</th>\n",
              "      <th>hp</th>\n",
              "      <th>drat</th>\n",
              "      <th>wt</th>\n",
              "      <th>qsec</th>\n",
              "      <th>vs</th>\n",
              "      <th>am</th>\n",
              "      <th>gear</th>\n",
              "      <th>carb</th>\n",
              "    </tr>\n",
              "  </thead>\n",
              "  <tbody>\n",
              "    <tr>\n",
              "      <th>0</th>\n",
              "      <td>21.0</td>\n",
              "      <td>160.0</td>\n",
              "      <td>110</td>\n",
              "      <td>3.9</td>\n",
              "      <td>2.620</td>\n",
              "      <td>16.46</td>\n",
              "      <td>0</td>\n",
              "      <td>1</td>\n",
              "      <td>4</td>\n",
              "      <td>4</td>\n",
              "    </tr>\n",
              "    <tr>\n",
              "      <th>1</th>\n",
              "      <td>21.0</td>\n",
              "      <td>160.0</td>\n",
              "      <td>110</td>\n",
              "      <td>3.9</td>\n",
              "      <td>2.875</td>\n",
              "      <td>17.02</td>\n",
              "      <td>0</td>\n",
              "      <td>1</td>\n",
              "      <td>4</td>\n",
              "      <td>4</td>\n",
              "    </tr>\n",
              "  </tbody>\n",
              "</table>\n",
              "</div>"
            ],
            "text/plain": [
              "    mpg   disp   hp  drat     wt   qsec  vs  am  gear  carb\n",
              "0  21.0  160.0  110   3.9  2.620  16.46   0   1     4     4\n",
              "1  21.0  160.0  110   3.9  2.875  17.02   0   1     4     4"
            ]
          },
          "metadata": {
            "tags": []
          },
          "execution_count": 19
        }
      ]
    },
    {
      "cell_type": "code",
      "metadata": {
        "id": "fnimzcJUWTtl"
      },
      "source": [
        "from sklearn.tree import DecisionTreeClassifier\n",
        "base=DecisionTreeClassifier()"
      ],
      "execution_count": null,
      "outputs": []
    },
    {
      "cell_type": "code",
      "metadata": {
        "colab": {
          "base_uri": "https://localhost:8080/"
        },
        "id": "sdzX1QmoWmUx",
        "outputId": "a43ccd1d-2343-4629-e883-133d2a8cb009"
      },
      "source": [
        "#Ensemble Size\n",
        "num_est = 50 # number of subset\n",
        " \n",
        "score_dt = cross_val_score(base, X, y, cv=3, scoring='accuracy')\n",
        "ada_clf = AdaBoostClassifier(base_estimator=base, n_estimators=n_est)\n",
        "score_ada = cross_val_score(ada_clf, X, y, cv=3, scoring='accuracy')\n",
        "print('accuracy of dt classifer:',np.mean(score_dt) )  \n",
        "print('accuracy of adaBoost classifer:',np.mean(score_ada) ) "
      ],
      "execution_count": null,
      "outputs": [
        {
          "output_type": "stream",
          "text": [
            "accuracy of dt classifer: 0.8757575757575758\n",
            "accuracy of adaBoost classifer: 0.8424242424242424\n"
          ],
          "name": "stdout"
        }
      ]
    }
  ]
}